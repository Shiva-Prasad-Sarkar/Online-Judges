{
 "cells": [
  {
   "cell_type": "code",
   "execution_count": null,
   "metadata": {},
   "outputs": [],
   "source": [
    "#All my leetcode Practices"
   ]
  },
  {
   "cell_type": "code",
   "execution_count": null,
   "metadata": {},
   "outputs": [],
   "source": [
    "#leetcode 1 - two sum\n",
    "class Solution:\n",
    "    def twoSum(self, nums: list[int], target: int) -> list[int]:\n",
    "        for i in range(len(nums)):\n",
    "            for j in range(i+1,len(nums)):\n",
    "                if nums[i]+nums[j]==target:\n",
    "                    return [i,j]"
   ]
  },
  {
   "cell_type": "code",
   "execution_count": null,
   "metadata": {},
   "outputs": [],
   "source": [
    "#leetcode 9 - Palindrome check\n",
    "class Solution:\n",
    "    def isPalindrome(self, x: int) -> bool:\n",
    "        v = str(x)\n",
    "        k = v[::-1]\n",
    "        if v==k:\n",
    "            return True\n",
    "        else:\n",
    "            return False"
   ]
  },
  {
   "cell_type": "code",
   "execution_count": null,
   "metadata": {},
   "outputs": [],
   "source": [
    "#leetcode 13 - Roman to Interger\n",
    "class Solution:\n",
    "    def romanToInt(self, s: str) -> int:\n",
    "        d = {\n",
    "        'I': 1,\n",
    "        'V': 5,\n",
    "        'X': 10,\n",
    "        'L': 50,\n",
    "        'C': 100,\n",
    "        'D': 500,\n",
    "        'M': 1000\n",
    "        }\n",
    "        val = 0\n",
    "        for i in range(1,len(s)):\n",
    "            if d[s[i-1]]<d[s[i]]:\n",
    "                val-=d[s[i-1]]\n",
    "            else:\n",
    "                val+=d[s[i-1]]\n",
    "        val+=d[s[len(s)-1]]\n",
    "        return val\n",
    "        "
   ]
  },
  {
   "cell_type": "code",
   "execution_count": null,
   "metadata": {},
   "outputs": [],
   "source": [
    "#leetcode 26 - Remove Duplicates from Sorted Array [Time limit exceed]\n",
    "class Solution:\n",
    "    def removeDuplicates(self, nums: list[int]) -> int:\n",
    "        def leftshift(arr,i):\n",
    "            for i in range(i+1,len(arr)):\n",
    "                arr[i-1]=arr[i]\n",
    "            return arr\n",
    "        p = 0\n",
    "        l = 0\n",
    "        while l<len(nums)-1:\n",
    "            if nums[p]==nums[p+1]:\n",
    "                nums = leftshift(nums,p)\n",
    "                l+=1\n",
    "            else:\n",
    "                p+=1\n",
    "                l+=1\n",
    "        return p+1"
   ]
  },
  {
   "cell_type": "code",
   "execution_count": null,
   "metadata": {},
   "outputs": [],
   "source": [
    "#leetcode 26 - Remove Duplicates from Sorted Array\n",
    "class Solution:\n",
    "    def removeDuplicates(self, nums: list[int]) -> int:\n",
    "        k = []\n",
    "        for i in nums:\n",
    "            if i not in k:\n",
    "                k.append(i)\n",
    "        for i in range(len(k)):\n",
    "            nums[i]=k[i]\n",
    "        return len(k)"
   ]
  },
  {
   "cell_type": "code",
   "execution_count": null,
   "metadata": {},
   "outputs": [],
   "source": [
    "#leetcode 27 - Remove Element\n",
    "class Solution:\n",
    "    def removeElement(self, nums: list[int], val: int) -> int:\n",
    "        k = []\n",
    "        y = len(nums)-nums.count(val)\n",
    "        for i in nums:\n",
    "            if i!=val:\n",
    "                k.append(i)\n",
    "        for i in range(len(k)):\n",
    "            nums[i]=k[i]\n",
    "        return y"
   ]
  },
  {
   "cell_type": "code",
   "execution_count": null,
   "metadata": {},
   "outputs": [],
   "source": [
    "#leetcode 80 - Remove Duplicates from Sorted Array II\n",
    "class Solution:\n",
    "    def removeDuplicates(self, nums: list[int]) -> int:\n",
    "        k = []\n",
    "        for i in nums:\n",
    "            if i not in k:\n",
    "                k.append(i)\n",
    "        l = []\n",
    "        for j in k:\n",
    "            if nums.count(j)>1:\n",
    "                l.append(j)\n",
    "                l.append(j)\n",
    "            else:\n",
    "                l.append(j)\n",
    "        for m in range(len(l)):\n",
    "            nums[m]=l[m]\n",
    "        return len(l)"
   ]
  },
  {
   "cell_type": "code",
   "execution_count": 36,
   "metadata": {},
   "outputs": [],
   "source": [
    "#lletcode 88 - Merged short\n",
    "class Solution:\n",
    "    def merge(self, nums1: list[int], m: int, nums2: list[int], n: int) -> None:\n",
    "        \"\"\"\n",
    "        Do not return anything, modify nums1 in-place instead.\n",
    "        \"\"\"\n",
    "        def rightshift(nums1,k,val):\n",
    "            for i in range(len(nums1)-1,k+1,-1):\n",
    "                nums1[i] = nums1[i-1]\n",
    "            nums1[k+1] = val\n",
    "            return nums1\n",
    "\n",
    "        def rightshift2(nums1,k,val):\n",
    "            for i in range(len(nums1)-1,k,-1):\n",
    "                nums1[i] = nums1[i-1]\n",
    "            nums1[k] = val\n",
    "            return nums1\n",
    "\n",
    "        if m==0 and n==0:\n",
    "            return nums1\n",
    "        elif m==0 and n!=0:\n",
    "            nums1[0]=nums2[0]\n",
    "            m+=1\n",
    "            nums2 = nums2[1::]\n",
    "            \n",
    "        for j in range(len(nums2)):\n",
    "            if nums2[j]<nums1[0]:\n",
    "                nums1 = rightshift2(nums1,0,nums2[j])\n",
    "                m+=1\n",
    "\n",
    "            else:\n",
    "                for i in range(m-1,-1,-1):\n",
    "                    if nums2[j]>=nums1[i]:\n",
    "                        nums1 = rightshift(nums1,i,nums2[j])\n",
    "                        m+=1\n",
    "                        break\n",
    "\n",
    "        return nums1"
   ]
  },
  {
   "cell_type": "code",
   "execution_count": 9,
   "metadata": {},
   "outputs": [
    {
     "name": "stdout",
     "output_type": "stream",
     "text": [
      "0\n"
     ]
    }
   ],
   "source": [
    "#leetcode 121 - Best Time to Buy and Sell Stock [Time limit exceed]\n",
    "class Solution:\n",
    "    def maxProfit(self, prices: list[int]) -> int:\n",
    "        max = 0\n",
    "        for i in range(len(prices)):\n",
    "            for j in range(i+1,len(prices)):\n",
    "                if prices[j]-prices[i]>=max:\n",
    "                    max = prices[j]-prices[i]\n",
    "        return max"
   ]
  },
  {
   "cell_type": "code",
   "execution_count": null,
   "metadata": {},
   "outputs": [],
   "source": [
    "#leetcode 121 - Best Time to Buy and Sell Stock [Time limit exceed]\n",
    "class Solution:\n",
    "    def maxProfit(self, prices: list[int]) -> int:\n",
    "        maxm = 0\n",
    "        for i in range(len(prices)-1):\n",
    "            if max(prices[i+1::])-prices[i]>=maxm:\n",
    "                maxm = max(prices[i+1::])-prices[i]\n",
    "        return maxm"
   ]
  },
  {
   "cell_type": "code",
   "execution_count": null,
   "metadata": {},
   "outputs": [],
   "source": [
    "#leetcode 121 - Best Time to Buy and Sell Stock\n",
    "class Solution:\n",
    "    def maxProfit(self, prices: list[int]) -> int:\n",
    "        buy_price = prices[0]\n",
    "        profit = 0\n",
    "        for p in prices[1:]:\n",
    "            if buy_price > p:\n",
    "                buy_price = p\n",
    "            profit = max(profit, p - buy_price)\n",
    "        return profit"
   ]
  },
  {
   "cell_type": "code",
   "execution_count": null,
   "metadata": {},
   "outputs": [],
   "source": [
    "#leetcode 169 - Majority Element\n",
    "class Solution:\n",
    "    def majorityElement(self, nums: list[int]) -> int:\n",
    "        l1 = list(set(nums))\n",
    "        counts = lambda  a : nums.count(a)\n",
    "        l = list(map(counts,l1))\n",
    "        v = l.index(max(l))\n",
    "        return l1[v]"
   ]
  },
  {
   "cell_type": "code",
   "execution_count": null,
   "metadata": {},
   "outputs": [],
   "source": [
    "#leetcode 189 - Rotate Array [Time limit exceed]\n",
    "class Solution:\n",
    "    def rotate(self, nums: list[int], k: int) -> None:\n",
    "        \"\"\"\n",
    "        Do not return anything, modify nums in-place instead.\n",
    "        \"\"\"\n",
    "        def rotate(nums):\n",
    "            k = nums[len(nums)-1]\n",
    "            for i in range(len(nums)-1,0,-1):\n",
    "                nums[i]=nums[i-1]\n",
    "            nums[0]= k\n",
    "            return nums\n",
    "\n",
    "        for i in range(k):\n",
    "            nums = rotate(nums)"
   ]
  },
  {
   "cell_type": "code",
   "execution_count": null,
   "metadata": {},
   "outputs": [],
   "source": [
    "#leetcode 189 - Rotate Array [Time limit exceed]\n",
    "class Solution:\n",
    "    def rotate(self, nums: list[int], k: int) -> None:\n",
    "        \"\"\"\n",
    "        Do not return anything, modify nums in-place instead.\n",
    "        \"\"\"\n",
    "        for i in range(k):\n",
    "            nums.insert(0,nums[-1])\n",
    "            nums.pop()"
   ]
  }
 ],
 "metadata": {
  "kernelspec": {
   "display_name": "Python 3",
   "language": "python",
   "name": "python3"
  },
  "language_info": {
   "codemirror_mode": {
    "name": "ipython",
    "version": 3
   },
   "file_extension": ".py",
   "mimetype": "text/x-python",
   "name": "python",
   "nbconvert_exporter": "python",
   "pygments_lexer": "ipython3",
   "version": "3.12.3"
  }
 },
 "nbformat": 4,
 "nbformat_minor": 2
}
