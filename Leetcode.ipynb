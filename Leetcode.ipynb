{
 "cells": [
  {
   "cell_type": "code",
   "execution_count": null,
   "metadata": {},
   "outputs": [],
   "source": [
    "#leetcode 1 - two sum\n",
    "class Solution:\n",
    "    def twoSum(self, nums: list[int], target: int) -> list[int]:\n",
    "        for i in range(len(nums)):\n",
    "            for j in range(i+1,len(nums)):\n",
    "                if nums[i]+nums[j]==target:\n",
    "                    return [i,j]"
   ]
  },
  {
   "cell_type": "code",
   "execution_count": null,
   "metadata": {},
   "outputs": [],
   "source": [
    "#lletcode 9 - Palindrome check\n",
    "class Solution:\n",
    "    def isPalindrome(self, x: int) -> bool:\n",
    "        v = str(x)\n",
    "        k = v[::-1]\n",
    "        if v==k:\n",
    "            return True\n",
    "        else:\n",
    "            return False\n",
    "        "
   ]
  },
  {
   "cell_type": "code",
   "execution_count": 36,
   "metadata": {},
   "outputs": [],
   "source": [
    "class Solution:\n",
    "    def merge(self, nums1: list[int], m: int, nums2: list[int], n: int) -> None:\n",
    "        \"\"\"\n",
    "        Do not return anything, modify nums1 in-place instead.\n",
    "        \"\"\"\n",
    "        def rightshift(nums1,k,val):\n",
    "            for i in range(len(nums1)-1,k+1,-1):\n",
    "                nums1[i] = nums1[i-1]\n",
    "            nums1[k+1] = val\n",
    "            return nums1\n",
    "\n",
    "        def rightshift2(nums1,k,val):\n",
    "            for i in range(len(nums1)-1,k,-1):\n",
    "                nums1[i] = nums1[i-1]\n",
    "            nums1[k] = val\n",
    "            return nums1\n",
    "\n",
    "        if m==0 and n==0:\n",
    "            return nums1\n",
    "        elif m==0 and n!=0:\n",
    "            nums1[0]=nums2[0]\n",
    "            m+=1\n",
    "            nums2 = nums2[1::]\n",
    "            \n",
    "        for j in range(len(nums2)):\n",
    "            if nums2[j]<nums1[0]:\n",
    "                nums1 = rightshift2(nums1,0,nums2[j])\n",
    "                m+=1\n",
    "\n",
    "            else:\n",
    "                for i in range(m-1,-1,-1):\n",
    "                    if nums2[j]>=nums1[i]:\n",
    "                        nums1 = rightshift(nums1,i,nums2[j])\n",
    "                        m+=1\n",
    "                        break\n",
    "\n",
    "        return nums1"
   ]
  }
 ],
 "metadata": {
  "kernelspec": {
   "display_name": "Python 3",
   "language": "python",
   "name": "python3"
  },
  "language_info": {
   "codemirror_mode": {
    "name": "ipython",
    "version": 3
   },
   "file_extension": ".py",
   "mimetype": "text/x-python",
   "name": "python",
   "nbconvert_exporter": "python",
   "pygments_lexer": "ipython3",
   "version": "3.12.3"
  }
 },
 "nbformat": 4,
 "nbformat_minor": 2
}
