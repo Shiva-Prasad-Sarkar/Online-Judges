{
 "cells": [
  {
   "cell_type": "code",
   "execution_count": null,
   "metadata": {},
   "outputs": [],
   "source": [
    "#All my Codeforce Practices after 170 submissions\n",
    "#previous submission at \n",
    "'''\n",
    "https://codeforces.com/submissions/SpS__79\n",
    "'''"
   ]
  },
  {
   "cell_type": "code",
   "execution_count": null,
   "metadata": {},
   "outputs": [],
   "source": [
    "#1\n",
    "#https://codeforces.com/problemset/problem/122/A\n",
    "def is_lucky(num):\n",
    "    b = str(num)\n",
    "    if (b.count('4')+b.count('7'))==len(b):\n",
    "        return True\n",
    "    return False\n",
    "\n",
    "a = int(input())\n",
    "b = str(a)\n",
    "if a%4==0 or a%7==0 or (b.count('4')+b.count('7'))==len(b):\n",
    "    print('YES')\n",
    "else:\n",
    "    flag = False\n",
    "    for i in range(a):\n",
    "        if is_lucky(i):\n",
    "            if a%i==0:\n",
    "                print(\"YES\")\n",
    "                flag = True\n",
    "                break\n",
    "        \n",
    "    \n",
    "    if flag == False:\n",
    "        print('NO')"
   ]
  },
  {
   "cell_type": "code",
   "execution_count": null,
   "metadata": {},
   "outputs": [],
   "source": [
    "#2\n",
    "#https://codeforces.com/contest/2033/problem/A\n",
    "x = int(input())\n",
    "for i in range(x):\n",
    "    p = int(input())\n",
    "    # val = 0\n",
    "    # i = 1\n",
    "    # flag = True\n",
    "    # while abs(val) <= p:\n",
    "    #     if flag==True:\n",
    "    #         val-=2*i-1\n",
    "    #         i+=1\n",
    "    #         flag=False\n",
    "    #     else:\n",
    "    #         val+=2*i-1\n",
    "    #         i+=1\n",
    "    #         flag=True\n",
    " \n",
    "    # if flag==False:\n",
    "    #     print('Sakurako')\n",
    "    # else:\n",
    "    #     print('Kosuke')\n",
    "    if p%2==0:\n",
    "        print('Sakurako')\n",
    "    else:\n",
    "        print('Kosuke')"
   ]
  },
  {
   "cell_type": "code",
   "execution_count": null,
   "metadata": {},
   "outputs": [],
   "source": [
    "#3\n",
    "#https://codeforces.com/gym/102152/problem/G\n",
    "a = int(input())\n",
    "for i in range(a):\n",
    "    b = list(map(int,input().split()))\n",
    "    print(abs(b[2]-b[0])+abs(b[3]-b[1]))"
   ]
  },
  {
   "cell_type": "code",
   "execution_count": null,
   "metadata": {},
   "outputs": [],
   "source": [
    "#4\n",
    "#https://codeforces.com/contest/1791/problem/C\n",
    "a = int(input())\n",
    "for j in range(a):\n",
    "    b = int(input())\n",
    "    c = input()\n",
    "    i = 0\n",
    "    while True:\n",
    "        if len(c)==0:\n",
    "            c = ''\n",
    "            break\n",
    "        elif c[i]!= c[len(c)-1-i]:\n",
    "            c = c[1:len(c)-1]\n",
    "        else:\n",
    "            break\n",
    "    print(len(c))"
   ]
  },
  {
   "cell_type": "code",
   "execution_count": null,
   "metadata": {},
   "outputs": [],
   "source": [
    "#https://codeforces.com/contest/1985/problem/B\n",
    "a = int(input())\n",
    "for j in range(a):\n",
    "    b = int(input())\n",
    "    k = 0\n",
    "    l = 0\n",
    "    for i in range(2,b+1,2):\n",
    "        k+=i\n",
    "    for i in range(3,b+1,3):\n",
    "        l+=i\n",
    "    if k>l:\n",
    "        print(2)\n",
    "    else:\n",
    "        print(3)"
   ]
  },
  {
   "cell_type": "code",
   "execution_count": null,
   "metadata": {},
   "outputs": [],
   "source": [
    "#https://codeforces.com/contest/2036/problem/A\n",
    "a = int(input())\n",
    "for i in range(a):\n",
    "    b = int(input())\n",
    "    c = list(map(int,input().split()))\n",
    "    flag = True\n",
    "    for j in range(1,b):\n",
    "        if abs(c[j]-c[j-1])== 5 or abs(c[j]-c[j-1])== 7:\n",
    "            flag = True\n",
    "        else:\n",
    "            flag = False\n",
    "            break\n",
    "    if flag==False:\n",
    "        print('NO')\n",
    "    else:\n",
    "        print('YES')"
   ]
  },
  {
   "cell_type": "code",
   "execution_count": null,
   "metadata": {},
   "outputs": [],
   "source": [
    "#https://codeforces.com/contest/2036/problem/B\n",
    "a = int(input())\n",
    "for _ in range(a):\n",
    "    c = list(map(int,input().split()))\n",
    "    n = c[0]\n",
    "    k = c[1]\n",
    "    l = {}\n",
    "    for i in range(k):\n",
    "        b = list(map(int,input().split()))\n",
    "        if b[0] not in l:\n",
    "            l[b[0]]=b[1]\n",
    "        else:\n",
    "            l[b[0]]+=b[1]\n",
    "    # val = {k: v for k, v in sorted(l.items(), key=lambda item: item[1], reverse=True)}\n",
    "    values_list = list(l.values())\n",
    "    values_list.sort(reverse=True)\n",
    "    print(sum(values_list[:n]))"
   ]
  },
  {
   "cell_type": "code",
   "execution_count": 3,
   "metadata": {},
   "outputs": [
    {
     "name": "stdout",
     "output_type": "stream",
     "text": [
      "5\n"
     ]
    }
   ],
   "source": [
    "#https://codeforces.com/problemset/problem/996/A\n",
    "a = int(input())\n",
    "cnt = 0\n",
    "sum = a\n",
    "lis = [100,20,10,5,1]\n",
    "while sum!=0:\n",
    "    if lis[0]>sum:\n",
    "        lis.pop(0)\n",
    "    else:\n",
    "        k = sum//lis[0]\n",
    "        cnt+=k\n",
    "        sum-=k*lis[0]\n",
    "        lis.pop(0)\n",
    "print(cnt)"
   ]
  },
  {
   "cell_type": "code",
   "execution_count": 6,
   "metadata": {},
   "outputs": [
    {
     "name": "stdout",
     "output_type": "stream",
     "text": [
      "NO\n"
     ]
    }
   ],
   "source": [
    "#https://codeforces.com/problemset/problem/58/A\n",
    "a = input()\n",
    "b = ['h','e','l','l','o']\n",
    "for i in a:\n",
    "    if i==b[0]:\n",
    "        b.pop(0)\n",
    "    if b==[]:\n",
    "        break\n",
    "if b==[]:\n",
    "    print('YES')\n",
    "else:\n",
    "    print('NO')"
   ]
  },
  {
   "cell_type": "code",
   "execution_count": 8,
   "metadata": {},
   "outputs": [
    {
     "name": "stdout",
     "output_type": "stream",
     "text": [
      "9\n"
     ]
    }
   ],
   "source": [
    "#https://codeforces.com/problemset/problem/479/A\n",
    "a = int(input())\n",
    "b = int(input())\n",
    "c = int(input())\n",
    "val = []\n",
    "val.append(a*b*c)\n",
    "val.append((a+b)*c)\n",
    "val.append(a*(b+c))\n",
    "val.append(a+b+c)\n",
    "val.append((a*b)+c)\n",
    "val.append(a+(b*c))\n",
    "print(max(val))"
   ]
  }
 ],
 "metadata": {
  "kernelspec": {
   "display_name": "Python 3",
   "language": "python",
   "name": "python3"
  },
  "language_info": {
   "codemirror_mode": {
    "name": "ipython",
    "version": 3
   },
   "file_extension": ".py",
   "mimetype": "text/x-python",
   "name": "python",
   "nbconvert_exporter": "python",
   "pygments_lexer": "ipython3",
   "version": "3.12.3"
  }
 },
 "nbformat": 4,
 "nbformat_minor": 2
}
