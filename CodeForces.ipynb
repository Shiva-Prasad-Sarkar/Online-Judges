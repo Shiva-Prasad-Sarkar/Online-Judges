{
 "cells": [
  {
   "cell_type": "code",
   "execution_count": null,
   "metadata": {},
   "outputs": [],
   "source": [
    "#All my Codeforce Practices"
   ]
  },
  {
   "cell_type": "code",
   "execution_count": 6,
   "metadata": {},
   "outputs": [
    {
     "name": "stdout",
     "output_type": "stream",
     "text": [
      "NO\n"
     ]
    }
   ],
   "source": [
    "#https://codeforces.com/problemset/problem/122/A\n",
    "def is_lucky(num):\n",
    "    b = str(num)\n",
    "    if (b.count('4')+b.count('7'))==len(b):\n",
    "        return True\n",
    "    return False\n",
    "\n",
    "a = int(input())\n",
    "b = str(a)\n",
    "if a%4==0 or a%7==0 or (b.count('4')+b.count('7'))==len(b):\n",
    "    print('YES')\n",
    "else:\n",
    "    flag = False\n",
    "    for i in range(a):\n",
    "        if is_lucky(i):\n",
    "            if a%i==0:\n",
    "                print(\"YES\")\n",
    "                flag = True\n",
    "                break\n",
    "        \n",
    "    \n",
    "    if flag == False:\n",
    "        print('NO')\n",
    "\n",
    "\n"
   ]
  }
}
