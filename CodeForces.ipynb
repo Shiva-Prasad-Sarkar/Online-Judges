{
 "cells": [
  {
   "cell_type": "code",
   "execution_count": null,
   "metadata": {},
   "outputs": [],
   "source": [
    "#All my Codeforce Practices after 170 submissions\n",
    "#previous submission at \n",
    "'''\n",
    "https://codeforces.com/submissions/SpS__79\n",
    "'''"
   ]
  },
  {
   "cell_type": "code",
   "execution_count": null,
   "metadata": {},
   "outputs": [],
   "source": [
    "#1\n",
    "#https://codeforces.com/problemset/problem/122/A\n",
    "def is_lucky(num):\n",
    "    b = str(num)\n",
    "    if (b.count('4')+b.count('7'))==len(b):\n",
    "        return True\n",
    "    return False\n",
    "\n",
    "a = int(input())\n",
    "b = str(a)\n",
    "if a%4==0 or a%7==0 or (b.count('4')+b.count('7'))==len(b):\n",
    "    print('YES')\n",
    "else:\n",
    "    flag = False\n",
    "    for i in range(a):\n",
    "        if is_lucky(i):\n",
    "            if a%i==0:\n",
    "                print(\"YES\")\n",
    "                flag = True\n",
    "                break\n",
    "        \n",
    "    \n",
    "    if flag == False:\n",
    "        print('NO')"
   ]
  },
  {
   "cell_type": "code",
   "execution_count": null,
   "metadata": {},
   "outputs": [],
   "source": [
    "#2\n",
    "#https://codeforces.com/contest/2033/problem/A\n",
    "x = int(input())\n",
    "for i in range(x):\n",
    "    p = int(input())\n",
    "    # val = 0\n",
    "    # i = 1\n",
    "    # flag = True\n",
    "    # while abs(val) <= p:\n",
    "    #     if flag==True:\n",
    "    #         val-=2*i-1\n",
    "    #         i+=1\n",
    "    #         flag=False\n",
    "    #     else:\n",
    "    #         val+=2*i-1\n",
    "    #         i+=1\n",
    "    #         flag=True\n",
    " \n",
    "    # if flag==False:\n",
    "    #     print('Sakurako')\n",
    "    # else:\n",
    "    #     print('Kosuke')\n",
    "    if p%2==0:\n",
    "        print('Sakurako')\n",
    "    else:\n",
    "        print('Kosuke')"
   ]
  },
  {
   "cell_type": "code",
   "execution_count": null,
   "metadata": {},
   "outputs": [],
   "source": [
    "#3\n",
    "#https://codeforces.com/gym/102152/problem/G\n",
    "a = int(input())\n",
    "for i in range(a):\n",
    "    b = list(map(int,input().split()))\n",
    "    print(abs(b[2]-b[0])+abs(b[3]-b[1]))"
   ]
  },
  {
   "cell_type": "code",
   "execution_count": null,
   "metadata": {},
   "outputs": [],
   "source": [
    "#4\n",
    "#https://codeforces.com/contest/1791/problem/C\n",
    "a = int(input())\n",
    "for j in range(a):\n",
    "    b = int(input())\n",
    "    c = input()\n",
    "    i = 0\n",
    "    while True:\n",
    "        if len(c)==0:\n",
    "            c = ''\n",
    "            break\n",
    "        elif c[i]!= c[len(c)-1-i]:\n",
    "            c = c[1:len(c)-1]\n",
    "        else:\n",
    "            break\n",
    "    print(len(c))"
   ]
  }
 ],
 "metadata": {
  "kernelspec": {
   "display_name": "base",
   "language": "python",
   "name": "python3"
  },
  "language_info": {
   "codemirror_mode": {
    "name": "ipython",
    "version": 3
   },
   "file_extension": ".py",
   "mimetype": "text/x-python",
   "name": "python",
   "nbconvert_exporter": "python",
   "pygments_lexer": "ipython3",
   "version": "3.11.7"
  }
 },
 "nbformat": 4,
 "nbformat_minor": 2
}
