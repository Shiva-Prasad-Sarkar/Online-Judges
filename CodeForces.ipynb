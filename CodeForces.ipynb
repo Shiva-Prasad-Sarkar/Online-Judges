{
 "cells": [
  {
   "cell_type": "code",
   "execution_count": null,
   "metadata": {},
   "outputs": [],
   "source": [
    "#All my Codeforce Practices after 170 submissions\n",
    "#previous submission at \n",
    "'''\n",
    "https://codeforces.com/submissions/SpS__79\n",
    "'''"
   ]
  },
  {
   "cell_type": "code",
   "execution_count": null,
   "metadata": {},
   "outputs": [],
   "source": [
    "#https://codeforces.com/problemset/problem/122/A\n",
    "def is_lucky(num):\n",
    "    b = str(num)\n",
    "    if (b.count('4')+b.count('7'))==len(b):\n",
    "        return True\n",
    "    return False\n",
    "\n",
    "a = int(input())\n",
    "b = str(a)\n",
    "if a%4==0 or a%7==0 or (b.count('4')+b.count('7'))==len(b):\n",
    "    print('YES')\n",
    "else:\n",
    "    flag = False\n",
    "    for i in range(a):\n",
    "        if is_lucky(i):\n",
    "            if a%i==0:\n",
    "                print(\"YES\")\n",
    "                flag = True\n",
    "                break\n",
    "        \n",
    "    \n",
    "    if flag == False:\n",
    "        print('NO')"
   ]
  },
  {
   "cell_type": "code",
   "execution_count": null,
   "metadata": {},
   "outputs": [],
   "source": [
    "#https://codeforces.com/contest/2033/problem/A\n",
    "x = int(input())\n",
    "for i in range(x):\n",
    "    p = int(input())\n",
    "    # val = 0\n",
    "    # i = 1\n",
    "    # flag = True\n",
    "    # while abs(val) <= p:\n",
    "    #     if flag==True:\n",
    "    #         val-=2*i-1\n",
    "    #         i+=1\n",
    "    #         flag=False\n",
    "    #     else:\n",
    "    #         val+=2*i-1\n",
    "    #         i+=1\n",
    "    #         flag=True\n",
    " \n",
    "    # if flag==False:\n",
    "    #     print('Sakurako')\n",
    "    # else:\n",
    "    #     print('Kosuke')\n",
    "    if p%2==0:\n",
    "        print('Sakurako')\n",
    "    else:\n",
    "        print('Kosuke')"
   ]
  },
  {
   "cell_type": "code",
   "execution_count": null,
   "metadata": {},
   "outputs": [],
   "source": [
    "#https://codeforces.com/gym/102152/problem/G\n",
    "a = int(input())\n",
    "for i in range(a):\n",
    "    b = list(map(int,input().split()))\n",
    "    print(abs(b[2]-b[0])+abs(b[3]-b[1]))"
   ]
  },
  {
   "cell_type": "code",
   "execution_count": null,
   "metadata": {},
   "outputs": [],
   "source": [
    "#https://codeforces.com/contest/1791/problem/C\n",
    "a = int(input())\n",
    "for j in range(a):\n",
    "    b = int(input())\n",
    "    c = input()\n",
    "    i = 0\n",
    "    while True:\n",
    "        if len(c)==0:\n",
    "            c = ''\n",
    "            break\n",
    "        elif c[i]!= c[len(c)-1-i]:\n",
    "            c = c[1:len(c)-1]\n",
    "        else:\n",
    "            break\n",
    "    print(len(c))"
   ]
  },
  {
   "cell_type": "code",
   "execution_count": null,
   "metadata": {},
   "outputs": [],
   "source": [
    "#https://codeforces.com/contest/1985/problem/B\n",
    "a = int(input())\n",
    "for j in range(a):\n",
    "    b = int(input())\n",
    "    k = 0\n",
    "    l = 0\n",
    "    for i in range(2,b+1,2):\n",
    "        k+=i\n",
    "    for i in range(3,b+1,3):\n",
    "        l+=i\n",
    "    if k>l:\n",
    "        print(2)\n",
    "    else:\n",
    "        print(3)"
   ]
  },
  {
   "cell_type": "code",
   "execution_count": null,
   "metadata": {},
   "outputs": [],
   "source": [
    "#https://codeforces.com/contest/2036/problem/A\n",
    "a = int(input())\n",
    "for i in range(a):\n",
    "    b = int(input())\n",
    "    c = list(map(int,input().split()))\n",
    "    flag = True\n",
    "    for j in range(1,b):\n",
    "        if abs(c[j]-c[j-1])== 5 or abs(c[j]-c[j-1])== 7:\n",
    "            flag = True\n",
    "        else:\n",
    "            flag = False\n",
    "            break\n",
    "    if flag==False:\n",
    "        print('NO')\n",
    "    else:\n",
    "        print('YES')"
   ]
  },
  {
   "cell_type": "code",
   "execution_count": null,
   "metadata": {},
   "outputs": [],
   "source": [
    "#https://codeforces.com/contest/2036/problem/B\n",
    "a = int(input())\n",
    "for _ in range(a):\n",
    "    c = list(map(int,input().split()))\n",
    "    n = c[0]\n",
    "    k = c[1]\n",
    "    l = {}\n",
    "    for i in range(k):\n",
    "        b = list(map(int,input().split()))\n",
    "        if b[0] not in l:\n",
    "            l[b[0]]=b[1]\n",
    "        else:\n",
    "            l[b[0]]+=b[1]\n",
    "    # val = {k: v for k, v in sorted(l.items(), key=lambda item: item[1], reverse=True)}\n",
    "    values_list = list(l.values())\n",
    "    values_list.sort(reverse=True)\n",
    "    print(sum(values_list[:n]))"
   ]
  },
  {
   "cell_type": "code",
   "execution_count": 3,
   "metadata": {},
   "outputs": [
    {
     "name": "stdout",
     "output_type": "stream",
     "text": [
      "5\n"
     ]
    }
   ],
   "source": [
    "#https://codeforces.com/problemset/problem/996/A\n",
    "a = int(input())\n",
    "cnt = 0\n",
    "sum = a\n",
    "lis = [100,20,10,5,1]\n",
    "while sum!=0:\n",
    "    if lis[0]>sum:\n",
    "        lis.pop(0)\n",
    "    else:\n",
    "        k = sum//lis[0]\n",
    "        cnt+=k\n",
    "        sum-=k*lis[0]\n",
    "        lis.pop(0)\n",
    "print(cnt)"
   ]
  },
  {
   "cell_type": "code",
   "execution_count": 6,
   "metadata": {},
   "outputs": [
    {
     "name": "stdout",
     "output_type": "stream",
     "text": [
      "NO\n"
     ]
    }
   ],
   "source": [
    "#https://codeforces.com/problemset/problem/58/A\n",
    "a = input()\n",
    "b = ['h','e','l','l','o']\n",
    "for i in a:\n",
    "    if i==b[0]:\n",
    "        b.pop(0)\n",
    "    if b==[]:\n",
    "        break\n",
    "if b==[]:\n",
    "    print('YES')\n",
    "else:\n",
    "    print('NO')"
   ]
  },
  {
   "cell_type": "code",
   "execution_count": 8,
   "metadata": {},
   "outputs": [
    {
     "name": "stdout",
     "output_type": "stream",
     "text": [
      "9\n"
     ]
    }
   ],
   "source": [
    "#https://codeforces.com/problemset/problem/479/A\n",
    "a = int(input())\n",
    "b = int(input())\n",
    "c = int(input())\n",
    "val = []\n",
    "val.append(a*b*c)\n",
    "val.append((a+b)*c)\n",
    "val.append(a*(b+c))\n",
    "val.append(a+b+c)\n",
    "val.append((a*b)+c)\n",
    "val.append(a+(b*c))\n",
    "print(max(val))"
   ]
  },
  {
   "cell_type": "code",
   "execution_count": 6,
   "metadata": {},
   "outputs": [
    {
     "name": "stdout",
     "output_type": "stream",
     "text": [
      "Caps\n"
     ]
    }
   ],
   "source": [
    "#https://codeforces.com/problemset/problem/131/A\n",
    "a = input()\n",
    "b = a.upper()\n",
    "c = a[0].lower()+a[1:].upper()\n",
    "if a==c:\n",
    "    a = a[0].upper()+a[1:].lower()\n",
    "    print(a)\n",
    "elif a==b:\n",
    "    print(a.lower())\n",
    "else:\n",
    "    print(a)\n"
   ]
  },
  {
   "cell_type": "code",
   "execution_count": 1,
   "metadata": {},
   "outputs": [
    {
     "name": "stdout",
     "output_type": "stream",
     "text": [
      "1 3\n"
     ]
    }
   ],
   "source": [
    "#https://codeforces.com/problemset/problem/1971/A\n",
    "a = int(input())\n",
    "for _ in range(a):\n",
    "    c = list(map(int,input().split()))\n",
    "    print(min(c),max(c))\n"
   ]
  },
  {
   "cell_type": "code",
   "execution_count": null,
   "metadata": {},
   "outputs": [
    {
     "name": "stdout",
     "output_type": "stream",
     "text": [
      "5\n"
     ]
    }
   ],
   "source": [
    "#https://codeforces.com/contest/1368/problem/A\n",
    "a =  int(input())\n",
    "for _ in range(a):\n",
    "    x = tuple(map(int,input().split()))\n",
    "    a,b,n = x\n",
    "    c = 0\n",
    "    if a>b:\n",
    "        a,b = b,a\n",
    "    while a<=n or b<=n:\n",
    "        if a<=n and b<=n:\n",
    "            a+=b\n",
    "            c+=1\n",
    "        if b<=n and a<=n:\n",
    "            b+=a\n",
    "            c+=1\n",
    "        if a>n or b>n:\n",
    "            break\n",
    "    print(c)\n",
    "        "
   ]
  },
  {
   "cell_type": "code",
   "execution_count": null,
   "metadata": {},
   "outputs": [],
   "source": [
    "#https://codeforces.com/contest/2014/problem/A\n",
    "a =  int(input())\n",
    "for _ in range(a):\n",
    "    x = tuple(map(int,input().split()))\n",
    "    y = list(map(int,input().split()))\n",
    "    n,k = x\n",
    "    c = 0\n",
    "    l = 0\n",
    "    j = 0\n",
    "    while j<n:\n",
    "        if y[j]>=k:\n",
    "            l+=y[j]\n",
    "            j+=1\n",
    "        elif y[j]==0 and l>0:\n",
    "            c+=1\n",
    "            l-=1\n",
    "            j+=1\n",
    "        else:\n",
    "            j+=1\n",
    "    print(c)\n",
    "            "
   ]
  },
  {
   "cell_type": "code",
   "execution_count": null,
   "metadata": {},
   "outputs": [
    {
     "name": "stdout",
     "output_type": "stream",
     "text": [
      "1 13\n"
     ]
    }
   ],
   "source": [
    "#https://codeforces.com/contest/1325/problem/A\n",
    "a = int(input())\n",
    "for _ in range(a):\n",
    "    x = int(input())\n",
    "    print(1,x-1)"
   ]
  },
  {
   "cell_type": "code",
   "execution_count": null,
   "metadata": {},
   "outputs": [
    {
     "name": "stdout",
     "output_type": "stream",
     "text": [
      "{'s': 'sp', 'g': 'fg', 'avc': 'agf'}\n"
     ]
    }
   ],
   "source": [
    "#https://codeforces.com/contest/499/problem/B\n",
    "a,b =  tuple(map(int,input().split()))\n",
    "dic = {}\n",
    "for _ in range(b):\n",
    "    x,y = tuple(map(str,input().split()))\n",
    "    if len(y)<len(x):\n",
    "        dic[x] = y\n",
    "    else:\n",
    "        dic[y] = x\n",
    "\n",
    "strn = list(map(str,input().split()))\n",
    "j = ''\n",
    "for i in strn:\n",
    "    if i in dic:\n",
    "        j+=dic[i]+' '\n",
    "    else:\n",
    "        j+=i+' '\n",
    "print(j.strip())\n"
   ]
  },
  {
   "cell_type": "code",
   "execution_count": null,
   "metadata": {},
   "outputs": [
    {
     "name": "stdout",
     "output_type": "stream",
     "text": [
      "1\n"
     ]
    }
   ],
   "source": [
    "#https://codeforces.com/contest/2110/problem/A\n",
    "a = int(input())\n",
    "for i in range(a):\n",
    "    k = int(input())\n",
    "    x = list(map(int,input().split()))\n",
    "    x.sort()\n",
    "    l = x\n",
    "    c = 0\n",
    "   \n",
    "    if (min(x)+max(x))%2==0:\n",
    "        print(0)\n",
    "    else:\n",
    "        if l[0]%2==0:\n",
    "            j1 = 0\n",
    "            for k in range(len(l)-1):\n",
    "                if l[k]%2!=0:\n",
    "                    break   \n",
    "                else:\n",
    "                    j1+=1\n",
    "\n",
    "            j2 = 0\n",
    "            for _ in range(len(l)-1,-1,-1):\n",
    "                if l[_]%2==0:\n",
    "                    break\n",
    "                else:\n",
    "                    j2+=1\n",
    "\n",
    "            print(min(j2,j1))\n",
    "            \n",
    "        else:\n",
    "            j1 = 0\n",
    "            for k in range(len(l)-1):\n",
    "                if l[k]%2==0:\n",
    "                    break   \n",
    "                else:\n",
    "                    j1+=1\n",
    "\n",
    "            j2 = 0\n",
    "            for _ in range(len(l)-1,0,-1):\n",
    "                if l[_]%2!=0:\n",
    "                    break\n",
    "                else:\n",
    "                    j2+=1\n",
    "            print(min(j2,j1))"
   ]
  },
  {
   "cell_type": "code",
   "execution_count": null,
   "metadata": {},
   "outputs": [],
   "source": [
    "#https://codeforces.com/contest/1883/problem/B\n",
    "a = int(input())\n",
    "for i in range(a):\n",
    "    x = list(map(int,input().split()))\n",
    "    k = x[1]\n",
    "    s = input()\n",
    "    su = []\n",
    "    for _ in (s):\n",
    "        if _ not in su:\n",
    "            su.append(_)\n",
    "    \n",
    "    n = 0\n",
    "    for j in su:\n",
    "        if s.count(j)%2!=0:\n",
    "            n+=1\n",
    "    if k>=n:\n",
    "        print('YES')\n",
    "    \n",
    "    else:\n",
    "        print('NO')"
   ]
  },
  {
   "cell_type": "code",
   "execution_count": null,
   "metadata": {},
   "outputs": [
    {
     "name": "stdout",
     "output_type": "stream",
     "text": [
      "31\n"
     ]
    }
   ],
   "source": [
    "#https://codeforces.com/contest/1883/problem/A\n",
    "a = int(input())\n",
    "for i in range(a):\n",
    "    j = input()\n",
    "    k = str(j)\n",
    "    c = 0\n",
    "    if k[0]=='0':\n",
    "        c+=10\n",
    "    else:\n",
    "        c+=int(k[0])\n",
    "\n",
    "    for x in range(1,len(k)):\n",
    "        \n",
    "        if k[x]==k[x-1]:\n",
    "            c+=1\n",
    "        else:\n",
    "            if k[x]=='0':\n",
    "                c+=1\n",
    "                c+=abs(10-int(k[x-1]))\n",
    "            else:\n",
    "                c+=1\n",
    "                if k[x-1]!='0':\n",
    "                    c+=abs(int(k[x])-int(k[x-1]))\n",
    "                else:\n",
    "                    c+=abs(int(k[x])-10)\n",
    "\n",
    "    print(c)"
   ]
  },
  {
   "cell_type": "code",
   "execution_count": 14,
   "metadata": {},
   "outputs": [
    {
     "name": "stdout",
     "output_type": "stream",
     "text": [
      "1\n",
      "1\n"
     ]
    }
   ],
   "source": [
    "#https://codeforces.com/contest/519/problem/B\n",
    "a = int(input())\n",
    "b =  list(map(int,input().split()))\n",
    "b.sort()\n",
    "c = list(map(int,input().split()))\n",
    "c.sort()\n",
    "d = list(map(int,input().split()))\n",
    "d.sort()\n",
    "m = list(set(b))\n",
    "for i in m:\n",
    "    if b.count(i)>c.count(i):\n",
    "        print(i)\n",
    "        break\n",
    "n = list(set(c))\n",
    "for j in n:\n",
    "    if c.count(j)>d.count(j):\n",
    "        print(j)\n",
    "        break\n"
   ]
  },
  {
   "cell_type": "code",
   "execution_count": null,
   "metadata": {},
   "outputs": [
    {
     "name": "stdout",
     "output_type": "stream",
     "text": [
      "0\n"
     ]
    }
   ],
   "source": [
    "#https://codeforces.com/contest/1462/problem/A\n",
    "a = int(input())\n",
    "for i in range(a):\n",
    "    c = int(input())\n",
    "    b =  list(map(str,input().split()))\n",
    "    k = ''\n",
    "    for j in range(c//2+1):\n",
    "        if j!=(c-1-j):\n",
    "            k+=b[j]+' '\n",
    "            k+=b[c-1-j]+' '\n",
    "        else:\n",
    "            k+=b[j]+' '\n",
    "    print(k.strip())\n",
    "        \n",
    "\n"
   ]
  },
  {
   "cell_type": "code",
   "execution_count": null,
   "metadata": {},
   "outputs": [
    {
     "name": "stdout",
     "output_type": "stream",
     "text": [
      "KAD\n",
      "['3D', '4C', 'AC', 'KD', 'AS']\n",
      "YES\n"
     ]
    }
   ],
   "source": [
    "#https://codeforces.com/contest/1097/problem/A\n",
    "a = input()\n",
    "b = list(map(str,input().split()))\n",
    "flag = True\n",
    "for i in b:\n",
    "    if i[0] in a or i[1] in a:\n",
    "        print('YES')\n",
    "        flag = False\n",
    "        break\n",
    "if flag==True:\n",
    "    print('NO')\n",
    "    \n"
   ]
  },
  {
   "cell_type": "code",
   "execution_count": 2,
   "metadata": {},
   "outputs": [
    {
     "name": "stdout",
     "output_type": "stream",
     "text": [
      "YES\n"
     ]
    }
   ],
   "source": [
    "#https://codeforces.com/contest/270/problem/A\n",
    "a = int(input())\n",
    "for i in range(a):\n",
    "    b = int(input())\n",
    "    n = 360/(180-b)\n",
    "    if n==int(n):\n",
    "        print('YES')\n",
    "    else:\n",
    "        print('NO')\n",
    "\n"
   ]
  },
  {
   "cell_type": "code",
   "execution_count": 27,
   "metadata": {},
   "outputs": [
    {
     "name": "stdout",
     "output_type": "stream",
     "text": [
      "QAQQQQQQQAAQ\n",
      "16\n"
     ]
    }
   ],
   "source": [
    "#https://codeforces.com/problemset/problem/894/A\n",
    "a = input()\n",
    "b = ''\n",
    "for i in a:\n",
    "    if i=='Q' or i=='A':\n",
    "        b+=i\n",
    "b = b.strip('A')\n",
    "print(b)\n",
    "\n",
    "c = 0\n",
    "\n",
    "while len(b)>2:\n",
    "    if b[0]=='Q':\n",
    "        c+=b[1::].count('AQ')\n",
    "    if b[0:2]=='QA':\n",
    "        c-=1\n",
    "        c+=b[2::].count('Q')\n",
    "    \n",
    "\n",
    "    if b[0:2]=='QA':\n",
    "        b = b[2::]\n",
    "    elif b[0]=='Q':\n",
    "        b = b[1::]\n",
    "    b = b.strip('A')\n",
    "    \n",
    "print(c)\n"
   ]
  },
  {
   "cell_type": "code",
   "execution_count": 12,
   "metadata": {},
   "outputs": [
    {
     "name": "stdout",
     "output_type": "stream",
     "text": [
      "5\n"
     ]
    }
   ],
   "source": [
    "a = int(input())\n",
    "for i in range(a):\n",
    "    b = list(map(int,input().split()))\n",
    "    n = b[0]\n",
    "    x = [b[1],b[2],b[3]]\n",
    "    c = 0\n",
    "    k = 0\n",
    "    s = sum(x)\n",
    "    if n>s:\n",
    "        k+=(n//s)*3\n",
    "        n-=(n//s)*s\n",
    "    while c<n:\n",
    "        c+=x[k%3]\n",
    "        k+=1\n",
    "    \n",
    "    print(k)"
   ]
  },
  {
   "cell_type": "code",
   "execution_count": null,
   "metadata": {},
   "outputs": [
    {
     "name": "stdout",
     "output_type": "stream",
     "text": [
      "No\n"
     ]
    }
   ],
   "source": [
    "a = int(input())\n",
    "for i in range(a):\n",
    "    c = int(input())\n",
    "    b =  list(map(int,input().split()))\n",
    "    b1 = [i for i in b if i%2==0]\n",
    "    if len(b1)==0:\n",
    "        print('NO')\n",
    "    elif sum(b1)>(sum(b)-sum(b1)):\n",
    "        print('YES')\n",
    "    else:\n",
    "        print('NO')"
   ]
  }
 ],
 "metadata": {
  "kernelspec": {
   "display_name": "Python 3",
   "language": "python",
   "name": "python3"
  },
  "language_info": {
   "codemirror_mode": {
    "name": "ipython",
    "version": 3
   },
   "file_extension": ".py",
   "mimetype": "text/x-python",
   "name": "python",
   "nbconvert_exporter": "python",
   "pygments_lexer": "ipython3",
   "version": "3.13.2"
  }
 },
 "nbformat": 4,
 "nbformat_minor": 2
}
