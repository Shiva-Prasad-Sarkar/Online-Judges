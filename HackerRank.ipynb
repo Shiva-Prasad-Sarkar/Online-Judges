{
 "cells": [
  {
   "cell_type": "code",
   "execution_count": null,
   "metadata": {
    "vscode": {
     "languageId": "plaintext"
    }
   },
   "outputs": [],
   "source": [
    "#All my HackerRank Practices after 10 submissions"
   ]
  },
  {
   "cell_type": "code",
   "execution_count": null,
   "metadata": {
    "vscode": {
     "languageId": "plaintext"
    }
   },
   "outputs": [],
   "source": [
    "#Validating Email Addresses With a Filter\n",
    "def fun(s):\n",
    "    s1 = ''\n",
    "    s2 = ''\n",
    "    s3 = ''\n",
    "    k = []\n",
    "    m = ['0', '1','2','3','4','5','6','7','8','9']\n",
    "    sp = '-_'\n",
    "    for i in range(26):\n",
    "        k.append(chr(ord('a')+i))\n",
    "        k.append(chr(ord('A')+i))\n",
    "        \n",
    "    for i in range(len(s)):\n",
    "        if s[i]=='@':\n",
    "            s1 = s[:i:]\n",
    "            s2 = s[i+1::]\n",
    "            break\n",
    "    if s1==s2=='':\n",
    "        print(1)\n",
    "        return False\n",
    "    else:\n",
    "        for j in range(len(s2)):\n",
    "            if s2[j]=='.':\n",
    "                s3 = s2[j+1::]\n",
    "                s2 = s2[:j:]\n",
    "                break  \n",
    "        print(s3,s2)        \n",
    "        if len(s3)>3 or len(s3)==0 or len(s2)==0:\n",
    "            print(2)\n",
    "            return False\n",
    "        else:\n",
    "            for p in s3:\n",
    "                if p not in k:\n",
    "                    print(3)\n",
    "                    return False\n",
    "        for o in s2:\n",
    "            if o not in k:\n",
    "                if o not in m:\n",
    "                    print(4)\n",
    "                    return False\n",
    "        for f in s1:\n",
    "            if f not in k:\n",
    "                if f not in sp:\n",
    "                    if f not in m:\n",
    "                        print(5)\n",
    "                        return False\n",
    "    return True\n",
    "                    \n",
    "        \n",
    "    # return True if s is a valid email, else return False\n",
    "\n",
    "def filter_mail(emails):\n",
    "    return list(filter(fun, emails))\n",
    "\n",
    "if __name__ == '__main__':\n",
    "    n = int(input())\n",
    "    emails = []\n",
    "    for _ in range(n):\n",
    "        emails.append(input())\n",
    "\n",
    "filtered_emails = filter_mail(emails)\n",
    "filtered_emails.sort()\n",
    "print(filtered_emails)"
   ]
  }
 ],
 "metadata": {
  "language_info": {
   "name": "python"
  }
 },
 "nbformat": 4,
 "nbformat_minor": 2
}
